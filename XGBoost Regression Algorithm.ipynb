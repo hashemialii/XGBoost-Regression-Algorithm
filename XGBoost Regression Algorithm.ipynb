{
 "cells": [
  {
   "cell_type": "markdown",
   "id": "dc2be26b",
   "metadata": {},
   "source": [
    "# <p style=\"padding:10px;background-color:#FDD667;margin:0;color:#1c1c1c;font-family:newtimeroman;font-size:150%;text-align:center;border-radius: 15px 50px;overflow:hidden;font-weight:500\"> XGBoost Regression Algorithm</p>\n"
   ]
  },
  {
   "cell_type": "markdown",
   "id": "d3efd2ef",
   "metadata": {},
   "source": [
    "<p style=\"text-align:center; \">\n",
    "<img src = \"https://miro.medium.com/max/1400/1*FLshv-wVDfu-i54OqvZdHg.png\" width=75%>"
   ]
  },
  {
   "cell_type": "markdown",
   "id": "cebd125a",
   "metadata": {},
   "source": [
    "XGBoost is one of the most popular machine learning algorithm these days. Regardless of the type of prediction task at hand; regression or classification."
   ]
  },
  {
   "cell_type": "markdown",
   "id": "15fd61e0",
   "metadata": {},
   "source": [
    "\n",
    "<a id='top'></a>\n",
    "<div class=\"list-group\" id=\"list-tab\" role=\"tablist\">\n",
    "<p style=\"padding:10px;background-color:#FDD667;margin:0;color:#1c1c1c;font-family:newtimeroman;font-size:130%;text-align:center;border-radius: 15px 50px;overflow:hidden;font-weight:500\">Table Of Contents</p> "
   ]
  },
  {
   "cell_type": "markdown",
   "id": "e0908492",
   "metadata": {},
   "source": [
    "    \n",
    "|No  | Contents |No  | Contents  |\n",
    "|:---| :---     |:---| :----     |\n",
    "|1   | [<font color=\"#1c1c1c\"> Importing Libraries</font>](#1)                   |5   | [<font color=\"#1c1c1c\"> Splitting the Dataset into the Training Set and Test Set</font>](#5)|\n",
    "|2   | [<font color=\"#1c1c1c\"> Importing Dataset</font>](#2)                         |6   | [<font color=\"#1c1c1c\"> XGBoost Model</font>](#6)|     \n",
    "|3   | [<font color=\"#1c1c1c\"> Data Preprocessing</font>](#3)                     |7   | [<font color=\"#1c1c1c\"> Evaluation</font>](#7)|\n",
    "|4   | [<font color=\"#1c1c1c\"> Feature Vector and Target Variable</font>](#4)      |8   | [<font color=\"#1c1c1c\"> Visualization</font>](#8)|       "
   ]
  },
  {
   "cell_type": "markdown",
   "id": "006e52bf",
   "metadata": {},
   "source": [
    "XGBoost is well known to provide better solutions than other machine learning algorithms. In fact, since its inception, it has become the \"state-of-the-art” machine learning algorithm to deal with structured data."
   ]
  },
  {
   "cell_type": "markdown",
   "id": "742ea3ad",
   "metadata": {},
   "source": [
    "<p style=\"text-align:center; \">\n",
    "<img src = \"https://www.nvidia.com/content/dam/en-zz/Solutions/glossary/data-science/xgboost/img-1.png\" width=75%>"
   ]
  },
  {
   "cell_type": "markdown",
   "id": "ae367e7d",
   "metadata": {},
   "source": [
    "But what makes XGBoost so popular?"
   ]
  },
  {
   "cell_type": "markdown",
   "id": "1e9f3472",
   "metadata": {},
   "source": [
    "* Speed and performance : Originally written in C++, it is comparatively faster than other ensemble classifiers.\n",
    "\n",
    "* Core algorithm is parallelizable : Because the core XGBoost algorithm is parallelizable it can harness the power of multi-core computers. It is also parallelizable onto GPU’s and across networks of computers making it feasible to train on very large datasets as well.\n",
    "\n",
    "* Consistently outperforms other algorithm methods : It has shown better performance on a variety of machine learning benchmark datasets.\n",
    "\n",
    "* Wide variety of tuning parameters : XGBoost internally has parameters for cross-validation, regularization, user-defined objective functions, missing values, tree parameters, scikit-learn compatible API etc."
   ]
  },
  {
   "cell_type": "markdown",
   "id": "78e57dba",
   "metadata": {},
   "source": [
    "XGBoost (Extreme Gradient Boosting) belongs to a family of boosting algorithms and uses the gradient boosting (GBM) framework at its core. It is an optimized distributed gradient boosting library. But wait, what is boosting? Well, keep on reading."
   ]
  },
  {
   "cell_type": "markdown",
   "id": "a827efc5",
   "metadata": {},
   "source": [
    "\n",
    "<div class=\"list-group\" id=\"list-tab\" role=\"tablist\">\n",
    "<p style=\"padding:10px;background-color:#FDD667;margin:0;color:#1c1c1c;font-family:newtimeroman;font-size:130%;text-align:center;border-radius: 15px 50px;overflow:hidden;font-weight:500\"> Boosting</p>"
   ]
  },
  {
   "cell_type": "markdown",
   "id": "03d48b7f",
   "metadata": {},
   "source": [
    "Boosting is a sequential technique which works on the principle of an ensemble. It combines a set of weak learners and delivers improved prediction accuracy. At any instant t, the model outcomes are weighed based on the outcomes of previous instant t-1. The outcomes predicted correctly are given a lower weight and the ones miss-classified are weighted higher. Note that a weak learner is one which is slightly better than random guessing. For example, a decision tree whose predictions are slightly better than 50%. Let's understand boosting in general with a simple illustration."
   ]
  },
  {
   "cell_type": "markdown",
   "id": "4f22d649",
   "metadata": {},
   "source": [
    "<p style=\"text-align:center; \">\n",
    "<img src = \"http://res.cloudinary.com/dyd911kmh/image/upload/f_auto,q_auto:best/v1528107577/output_1_0_ilvuyr.png\" width=75%>"
   ]
  },
  {
   "cell_type": "markdown",
   "id": "9f516b19",
   "metadata": {},
   "source": [
    "Four classifiers (in 4 boxes), shown above, are trying to classify + and - classes as homogeneously as possible.\n",
    "\n",
    "1. Box 1: The first classifier (usually a decision stump) creates a vertical line (split) at D1. It says anything to the left of D1 is + and anything to the right of D1 is -. However, this classifier misclassifies three + points.\n",
    "\n",
    "* Note a Decision Stump is a Decision Tree model that only splits off at one level, therefore the final prediction is based on only one feature.\n",
    "\n",
    "2. Box 2: The second classifier gives more weight to the three + misclassified points (see the bigger size of +) and creates a vertical line at D2. Again it says, anything to the right of D2 is - and left is +. Still, it makes mistakes by incorrectly classifying three - points.\n",
    "\n",
    "3. Box 3: Again, the third classifier gives more weight to the three - misclassified points and creates a horizontal line at D3. Still, this classifier fails to classify the points (in the circles) correctly.\n",
    "\n",
    "4. Box 4: This is a weighted combination of the weak classifiers (Box 1,2 and 3). As you can see, it does a good job at classifying all the points correctly."
   ]
  },
  {
   "cell_type": "markdown",
   "id": "46157336",
   "metadata": {},
   "source": [
    "That's the basic idea behind boosting algorithms is building a weak model, making conclusions about the various feature importance and parameters, and then using those conclusions to build a new, stronger model and capitalize on the misclassification error of the previous model and try to reduce it."
   ]
  },
  {
   "cell_type": "markdown",
   "id": "4aeb4688",
   "metadata": {},
   "source": [
    "<p style=\"text-align:center; \">\n",
    "<img src = \"https://miro.medium.com/max/720/1*QJZ6W-Pck_W7RlIDwUIN9Q.jpeg\" width=75%>"
   ]
  },
  {
   "cell_type": "markdown",
   "id": "7f11220f",
   "metadata": {},
   "source": [
    "<a id=\"1\"></a>\n",
    "# <p style=\"padding:10px;background-color:#FDD667;margin:0;color:#1c1c1c;font-family:newtimeroman;font-size:100%;text-align:center;border-radius: 15px 50px;overflow:hidden;font-weight:500\">Importing Libraries</p>"
   ]
  },
  {
   "cell_type": "code",
   "execution_count": 2,
   "id": "62616966",
   "metadata": {
    "scrolled": true
   },
   "outputs": [
    {
     "name": "stdout",
     "output_type": "stream",
     "text": [
      "Requirement already satisfied: xgboost in c:\\users\\atg\\anaconda3\\lib\\site-packages (1.7.1)\n",
      "Requirement already satisfied: numpy in c:\\users\\atg\\anaconda3\\lib\\site-packages (from xgboost) (1.21.5)\n",
      "Requirement already satisfied: scipy in c:\\users\\atg\\anaconda3\\lib\\site-packages (from xgboost) (1.7.3)\n"
     ]
    }
   ],
   "source": [
    "!pip install xgboost"
   ]
  },
  {
   "cell_type": "code",
   "execution_count": 3,
   "id": "a2ba12a8",
   "metadata": {},
   "outputs": [],
   "source": [
    "%matplotlib inline\n",
    "import numpy as np\n",
    "import pandas as pd\n",
    "import matplotlib.pyplot as plt\n",
    "import seaborn as sns\n",
    "import sklearn\n",
    "\n",
    "import xgboost as xgb\n",
    "\n",
    "from sklearn.model_selection import train_test_split\n",
    "from sklearn.model_selection import cross_val_score, KFold\n",
    "from sklearn.model_selection import train_test_split\n",
    "from sklearn.preprocessing import StandardScaler\n",
    "from sklearn.metrics import mean_squared_error\n",
    "from sklearn.metrics import mean_absolute_error\n",
    "from sklearn.metrics import r2_score\n",
    "from sklearn import metrics"
   ]
  },
  {
   "cell_type": "markdown",
   "id": "dec4927b",
   "metadata": {},
   "source": [
    "\n",
    "<a id=\"2\"></a>\n",
    "# <p style=\"padding:10px;background-color:#FDD667;margin:0;color:#1c1c1c;font-family:newtimeroman;font-size:100%;text-align:center;border-radius: 15px 50px;overflow:hidden;font-weight:500\">Importing the Dataset</p>"
   ]
  },
  {
   "cell_type": "markdown",
   "id": "98f36965",
   "metadata": {},
   "source": [
    "* Dataset We will be using a dataset that encapsulates the carbon dioxide emissions generated from burning coal for producing electricity power in the United States of America between 1973 and 2016. Using XGBoost, we will try to predict the carbon dioxide emissions in jupyter notebook for the next few years."
   ]
  },
  {
   "cell_type": "code",
   "execution_count": 5,
   "id": "37975157",
   "metadata": {},
   "outputs": [],
   "source": [
    "df = pd.read_csv('co2.csv')"
   ]
  },
  {
   "cell_type": "code",
   "execution_count": 6,
   "id": "56174b13",
   "metadata": {},
   "outputs": [
    {
     "data": {
      "text/html": [
       "<style type=\"text/css\">\n",
       "#T_dd15a_row0_col0, #T_dd15a_row0_col1, #T_dd15a_row1_col0, #T_dd15a_row1_col1, #T_dd15a_row2_col0, #T_dd15a_row2_col1, #T_dd15a_row3_col0, #T_dd15a_row3_col1, #T_dd15a_row4_col0, #T_dd15a_row4_col1 {\n",
       "  background-color: #FDD667;\n",
       "  color: black;\n",
       "  border: 1.5px solid black;\n",
       "}\n",
       "</style>\n",
       "<table id=\"T_dd15a\">\n",
       "  <thead>\n",
       "    <tr>\n",
       "      <th class=\"blank level0\" >&nbsp;</th>\n",
       "      <th id=\"T_dd15a_level0_col0\" class=\"col_heading level0 col0\" >YYYYMM</th>\n",
       "      <th id=\"T_dd15a_level0_col1\" class=\"col_heading level0 col1\" >Value</th>\n",
       "    </tr>\n",
       "  </thead>\n",
       "  <tbody>\n",
       "    <tr>\n",
       "      <th id=\"T_dd15a_level0_row0\" class=\"row_heading level0 row0\" >0</th>\n",
       "      <td id=\"T_dd15a_row0_col0\" class=\"data row0 col0\" >197301</td>\n",
       "      <td id=\"T_dd15a_row0_col1\" class=\"data row0 col1\" >72.076000</td>\n",
       "    </tr>\n",
       "    <tr>\n",
       "      <th id=\"T_dd15a_level0_row1\" class=\"row_heading level0 row1\" >1</th>\n",
       "      <td id=\"T_dd15a_row1_col0\" class=\"data row1 col0\" >197302</td>\n",
       "      <td id=\"T_dd15a_row1_col1\" class=\"data row1 col1\" >64.442000</td>\n",
       "    </tr>\n",
       "    <tr>\n",
       "      <th id=\"T_dd15a_level0_row2\" class=\"row_heading level0 row2\" >2</th>\n",
       "      <td id=\"T_dd15a_row2_col0\" class=\"data row2 col0\" >197303</td>\n",
       "      <td id=\"T_dd15a_row2_col1\" class=\"data row2 col1\" >64.084000</td>\n",
       "    </tr>\n",
       "    <tr>\n",
       "      <th id=\"T_dd15a_level0_row3\" class=\"row_heading level0 row3\" >3</th>\n",
       "      <td id=\"T_dd15a_row3_col0\" class=\"data row3 col0\" >197304</td>\n",
       "      <td id=\"T_dd15a_row3_col1\" class=\"data row3 col1\" >60.842000</td>\n",
       "    </tr>\n",
       "    <tr>\n",
       "      <th id=\"T_dd15a_level0_row4\" class=\"row_heading level0 row4\" >4</th>\n",
       "      <td id=\"T_dd15a_row4_col0\" class=\"data row4 col0\" >197305</td>\n",
       "      <td id=\"T_dd15a_row4_col1\" class=\"data row4 col1\" >61.798000</td>\n",
       "    </tr>\n",
       "  </tbody>\n",
       "</table>\n"
      ],
      "text/plain": [
       "<pandas.io.formats.style.Styler at 0x1ca91a687f0>"
      ]
     },
     "execution_count": 6,
     "metadata": {},
     "output_type": "execute_result"
    }
   ],
   "source": [
    "df.head().style.set_properties(**{\"background-color\": \"#FDD667\",\"color\":\"black\",\"border\": \"1.5px solid black\"})"
   ]
  },
  {
   "cell_type": "markdown",
   "id": "f6cc5157",
   "metadata": {},
   "source": [
    "<a id=\"3\"></a>\n",
    "# <p style=\"padding:10px;background-color:#FDD667;margin:0;color:#1c1c1c;font-family:newtimeroman;font-size:100%;text-align:center;border-radius: 15px 50px;overflow:hidden;font-weight:500\"> Data Preprocessing</p>"
   ]
  },
  {
   "cell_type": "code",
   "execution_count": 7,
   "id": "2af5159e",
   "metadata": {},
   "outputs": [
    {
     "data": {
      "text/plain": [
       "(523, 2)"
      ]
     },
     "execution_count": 7,
     "metadata": {},
     "output_type": "execute_result"
    }
   ],
   "source": [
    "df.shape"
   ]
  },
  {
   "cell_type": "code",
   "execution_count": 8,
   "id": "aaafa56a",
   "metadata": {},
   "outputs": [
    {
     "data": {
      "text/html": [
       "<div>\n",
       "<style scoped>\n",
       "    .dataframe tbody tr th:only-of-type {\n",
       "        vertical-align: middle;\n",
       "    }\n",
       "\n",
       "    .dataframe tbody tr th {\n",
       "        vertical-align: top;\n",
       "    }\n",
       "\n",
       "    .dataframe thead th {\n",
       "        text-align: right;\n",
       "    }\n",
       "</style>\n",
       "<table border=\"1\" class=\"dataframe\">\n",
       "  <thead>\n",
       "    <tr style=\"text-align: right;\">\n",
       "      <th></th>\n",
       "      <th>YYYYMM</th>\n",
       "      <th>Value</th>\n",
       "    </tr>\n",
       "  </thead>\n",
       "  <tbody>\n",
       "  </tbody>\n",
       "</table>\n",
       "</div>"
      ],
      "text/plain": [
       "Empty DataFrame\n",
       "Columns: [YYYYMM, Value]\n",
       "Index: []"
      ]
     },
     "execution_count": 8,
     "metadata": {},
     "output_type": "execute_result"
    }
   ],
   "source": [
    "df[df.duplicated(subset='YYYYMM')]"
   ]
  },
  {
   "cell_type": "code",
   "execution_count": 9,
   "id": "38964375",
   "metadata": {
    "scrolled": false
   },
   "outputs": [
    {
     "name": "stdout",
     "output_type": "stream",
     "text": [
      "<class 'pandas.core.frame.DataFrame'>\n",
      "RangeIndex: 523 entries, 0 to 522\n",
      "Data columns (total 2 columns):\n",
      " #   Column  Non-Null Count  Dtype  \n",
      "---  ------  --------------  -----  \n",
      " 0   YYYYMM  523 non-null    int64  \n",
      " 1   Value   523 non-null    float64\n",
      "dtypes: float64(1), int64(1)\n",
      "memory usage: 8.3 KB\n"
     ]
    }
   ],
   "source": [
    "df.info()"
   ]
  },
  {
   "cell_type": "markdown",
   "id": "cc43d0a1",
   "metadata": {},
   "source": [
    "* We use Pandas to import the CSV file. We notice that the dataframe contains a column 'YYYYMM' that needs to be separated into 'Year' and 'Month' column. In this step, we will also remove any null values that we may have in the dataframe. Finally, we will retrieve the last five elements of the dataframe to check if our code worked. And it did!"
   ]
  },
  {
   "cell_type": "code",
   "execution_count": 10,
   "id": "08f7dc23",
   "metadata": {},
   "outputs": [],
   "source": [
    "df['Month'] = df.YYYYMM.astype(str).str[4:6].astype(float)\n",
    "df['Year'] = df.YYYYMM.astype(str).str[0:4].astype(float)"
   ]
  },
  {
   "cell_type": "code",
   "execution_count": 11,
   "id": "8ad757dc",
   "metadata": {},
   "outputs": [
    {
     "data": {
      "text/html": [
       "<style type=\"text/css\">\n",
       "#T_08439_row0_col0, #T_08439_row0_col1, #T_08439_row0_col2, #T_08439_row0_col3, #T_08439_row1_col0, #T_08439_row1_col1, #T_08439_row1_col2, #T_08439_row1_col3, #T_08439_row2_col0, #T_08439_row2_col1, #T_08439_row2_col2, #T_08439_row2_col3, #T_08439_row3_col0, #T_08439_row3_col1, #T_08439_row3_col2, #T_08439_row3_col3, #T_08439_row4_col0, #T_08439_row4_col1, #T_08439_row4_col2, #T_08439_row4_col3 {\n",
       "  background-color: #FDD667;\n",
       "  color: black;\n",
       "  border: 1.5px solid black;\n",
       "}\n",
       "</style>\n",
       "<table id=\"T_08439\">\n",
       "  <thead>\n",
       "    <tr>\n",
       "      <th class=\"blank level0\" >&nbsp;</th>\n",
       "      <th id=\"T_08439_level0_col0\" class=\"col_heading level0 col0\" >YYYYMM</th>\n",
       "      <th id=\"T_08439_level0_col1\" class=\"col_heading level0 col1\" >Value</th>\n",
       "      <th id=\"T_08439_level0_col2\" class=\"col_heading level0 col2\" >Month</th>\n",
       "      <th id=\"T_08439_level0_col3\" class=\"col_heading level0 col3\" >Year</th>\n",
       "    </tr>\n",
       "  </thead>\n",
       "  <tbody>\n",
       "    <tr>\n",
       "      <th id=\"T_08439_level0_row0\" class=\"row_heading level0 row0\" >0</th>\n",
       "      <td id=\"T_08439_row0_col0\" class=\"data row0 col0\" >197301</td>\n",
       "      <td id=\"T_08439_row0_col1\" class=\"data row0 col1\" >72.076000</td>\n",
       "      <td id=\"T_08439_row0_col2\" class=\"data row0 col2\" >1.000000</td>\n",
       "      <td id=\"T_08439_row0_col3\" class=\"data row0 col3\" >1973.000000</td>\n",
       "    </tr>\n",
       "    <tr>\n",
       "      <th id=\"T_08439_level0_row1\" class=\"row_heading level0 row1\" >1</th>\n",
       "      <td id=\"T_08439_row1_col0\" class=\"data row1 col0\" >197302</td>\n",
       "      <td id=\"T_08439_row1_col1\" class=\"data row1 col1\" >64.442000</td>\n",
       "      <td id=\"T_08439_row1_col2\" class=\"data row1 col2\" >2.000000</td>\n",
       "      <td id=\"T_08439_row1_col3\" class=\"data row1 col3\" >1973.000000</td>\n",
       "    </tr>\n",
       "    <tr>\n",
       "      <th id=\"T_08439_level0_row2\" class=\"row_heading level0 row2\" >2</th>\n",
       "      <td id=\"T_08439_row2_col0\" class=\"data row2 col0\" >197303</td>\n",
       "      <td id=\"T_08439_row2_col1\" class=\"data row2 col1\" >64.084000</td>\n",
       "      <td id=\"T_08439_row2_col2\" class=\"data row2 col2\" >3.000000</td>\n",
       "      <td id=\"T_08439_row2_col3\" class=\"data row2 col3\" >1973.000000</td>\n",
       "    </tr>\n",
       "    <tr>\n",
       "      <th id=\"T_08439_level0_row3\" class=\"row_heading level0 row3\" >3</th>\n",
       "      <td id=\"T_08439_row3_col0\" class=\"data row3 col0\" >197304</td>\n",
       "      <td id=\"T_08439_row3_col1\" class=\"data row3 col1\" >60.842000</td>\n",
       "      <td id=\"T_08439_row3_col2\" class=\"data row3 col2\" >4.000000</td>\n",
       "      <td id=\"T_08439_row3_col3\" class=\"data row3 col3\" >1973.000000</td>\n",
       "    </tr>\n",
       "    <tr>\n",
       "      <th id=\"T_08439_level0_row4\" class=\"row_heading level0 row4\" >4</th>\n",
       "      <td id=\"T_08439_row4_col0\" class=\"data row4 col0\" >197305</td>\n",
       "      <td id=\"T_08439_row4_col1\" class=\"data row4 col1\" >61.798000</td>\n",
       "      <td id=\"T_08439_row4_col2\" class=\"data row4 col2\" >5.000000</td>\n",
       "      <td id=\"T_08439_row4_col3\" class=\"data row4 col3\" >1973.000000</td>\n",
       "    </tr>\n",
       "  </tbody>\n",
       "</table>\n"
      ],
      "text/plain": [
       "<pandas.io.formats.style.Styler at 0x1ca91bb6dc0>"
      ]
     },
     "execution_count": 11,
     "metadata": {},
     "output_type": "execute_result"
    }
   ],
   "source": [
    "df.head().style.set_properties(**{\"background-color\": \"#FDD667\",\"color\":\"black\",\"border\": \"1.5px solid black\"})"
   ]
  },
  {
   "cell_type": "code",
   "execution_count": 12,
   "id": "4d7f5080",
   "metadata": {},
   "outputs": [
    {
     "data": {
      "text/plain": [
       "(523, 4)"
      ]
     },
     "execution_count": 12,
     "metadata": {},
     "output_type": "execute_result"
    }
   ],
   "source": [
    "df.shape"
   ]
  },
  {
   "cell_type": "code",
   "execution_count": 13,
   "id": "64daa9e9",
   "metadata": {},
   "outputs": [],
   "source": [
    "df.drop(['YYYYMM'], axis=1, inplace=True)"
   ]
  },
  {
   "cell_type": "code",
   "execution_count": 14,
   "id": "ad7bbc31",
   "metadata": {},
   "outputs": [
    {
     "data": {
      "text/html": [
       "<style type=\"text/css\">\n",
       "#T_68ede_row0_col0, #T_68ede_row0_col1, #T_68ede_row0_col2, #T_68ede_row1_col0, #T_68ede_row1_col1, #T_68ede_row1_col2, #T_68ede_row2_col0, #T_68ede_row2_col1, #T_68ede_row2_col2, #T_68ede_row3_col0, #T_68ede_row3_col1, #T_68ede_row3_col2, #T_68ede_row4_col0, #T_68ede_row4_col1, #T_68ede_row4_col2 {\n",
       "  background-color: #FDD667;\n",
       "  color: black;\n",
       "  border: 1.5px solid black;\n",
       "}\n",
       "</style>\n",
       "<table id=\"T_68ede\">\n",
       "  <thead>\n",
       "    <tr>\n",
       "      <th class=\"blank level0\" >&nbsp;</th>\n",
       "      <th id=\"T_68ede_level0_col0\" class=\"col_heading level0 col0\" >Value</th>\n",
       "      <th id=\"T_68ede_level0_col1\" class=\"col_heading level0 col1\" >Month</th>\n",
       "      <th id=\"T_68ede_level0_col2\" class=\"col_heading level0 col2\" >Year</th>\n",
       "    </tr>\n",
       "  </thead>\n",
       "  <tbody>\n",
       "    <tr>\n",
       "      <th id=\"T_68ede_level0_row0\" class=\"row_heading level0 row0\" >0</th>\n",
       "      <td id=\"T_68ede_row0_col0\" class=\"data row0 col0\" >72.076000</td>\n",
       "      <td id=\"T_68ede_row0_col1\" class=\"data row0 col1\" >1.000000</td>\n",
       "      <td id=\"T_68ede_row0_col2\" class=\"data row0 col2\" >1973.000000</td>\n",
       "    </tr>\n",
       "    <tr>\n",
       "      <th id=\"T_68ede_level0_row1\" class=\"row_heading level0 row1\" >1</th>\n",
       "      <td id=\"T_68ede_row1_col0\" class=\"data row1 col0\" >64.442000</td>\n",
       "      <td id=\"T_68ede_row1_col1\" class=\"data row1 col1\" >2.000000</td>\n",
       "      <td id=\"T_68ede_row1_col2\" class=\"data row1 col2\" >1973.000000</td>\n",
       "    </tr>\n",
       "    <tr>\n",
       "      <th id=\"T_68ede_level0_row2\" class=\"row_heading level0 row2\" >2</th>\n",
       "      <td id=\"T_68ede_row2_col0\" class=\"data row2 col0\" >64.084000</td>\n",
       "      <td id=\"T_68ede_row2_col1\" class=\"data row2 col1\" >3.000000</td>\n",
       "      <td id=\"T_68ede_row2_col2\" class=\"data row2 col2\" >1973.000000</td>\n",
       "    </tr>\n",
       "    <tr>\n",
       "      <th id=\"T_68ede_level0_row3\" class=\"row_heading level0 row3\" >3</th>\n",
       "      <td id=\"T_68ede_row3_col0\" class=\"data row3 col0\" >60.842000</td>\n",
       "      <td id=\"T_68ede_row3_col1\" class=\"data row3 col1\" >4.000000</td>\n",
       "      <td id=\"T_68ede_row3_col2\" class=\"data row3 col2\" >1973.000000</td>\n",
       "    </tr>\n",
       "    <tr>\n",
       "      <th id=\"T_68ede_level0_row4\" class=\"row_heading level0 row4\" >4</th>\n",
       "      <td id=\"T_68ede_row4_col0\" class=\"data row4 col0\" >61.798000</td>\n",
       "      <td id=\"T_68ede_row4_col1\" class=\"data row4 col1\" >5.000000</td>\n",
       "      <td id=\"T_68ede_row4_col2\" class=\"data row4 col2\" >1973.000000</td>\n",
       "    </tr>\n",
       "  </tbody>\n",
       "</table>\n"
      ],
      "text/plain": [
       "<pandas.io.formats.style.Styler at 0x1ca91b6e7c0>"
      ]
     },
     "execution_count": 14,
     "metadata": {},
     "output_type": "execute_result"
    }
   ],
   "source": [
    "df.head().style.set_properties(**{\"background-color\": \"#FDD667\",\"color\":\"black\",\"border\": \"1.5px solid black\"})"
   ]
  },
  {
   "cell_type": "code",
   "execution_count": 15,
   "id": "374e9546",
   "metadata": {},
   "outputs": [
    {
     "data": {
      "text/plain": [
       "Value    float64\n",
       "Month    float64\n",
       "Year     float64\n",
       "dtype: object"
      ]
     },
     "execution_count": 15,
     "metadata": {},
     "output_type": "execute_result"
    }
   ],
   "source": [
    "df.dtypes"
   ]
  },
  {
   "cell_type": "code",
   "execution_count": 16,
   "id": "ac38f6e5",
   "metadata": {},
   "outputs": [
    {
     "data": {
      "text/plain": [
       "Value    0\n",
       "Month    0\n",
       "Year     0\n",
       "dtype: int64"
      ]
     },
     "execution_count": 16,
     "metadata": {},
     "output_type": "execute_result"
    }
   ],
   "source": [
    "df.isnull().sum()"
   ]
  },
  {
   "cell_type": "code",
   "execution_count": 17,
   "id": "ab9fc6d4",
   "metadata": {},
   "outputs": [
    {
     "data": {
      "text/plain": [
       "(523, 3)"
      ]
     },
     "execution_count": 17,
     "metadata": {},
     "output_type": "execute_result"
    }
   ],
   "source": [
    "df.shape"
   ]
  },
  {
   "cell_type": "markdown",
   "id": "45b5140f",
   "metadata": {},
   "source": [
    "<a id=\"4\"></a>\n",
    "# <p style=\"padding:10px;background-color:#FDD667;margin:0;color:#1c1c1c;font-family:newtimeroman;font-size:100%;text-align:center;border-radius: 15px 50px;overflow:hidden;font-weight:500\"> Feature Vector and Target Variable</p>"
   ]
  },
  {
   "cell_type": "code",
   "execution_count": 18,
   "id": "a4759ac1",
   "metadata": {},
   "outputs": [],
   "source": [
    "X = df.drop(columns=['Value']).values\n",
    "y = df['Value'].values"
   ]
  },
  {
   "cell_type": "code",
   "execution_count": 19,
   "id": "f8c3be9e",
   "metadata": {},
   "outputs": [
    {
     "data": {
      "text/plain": [
       "array([[1.000e+00, 1.973e+03],\n",
       "       [2.000e+00, 1.973e+03],\n",
       "       [3.000e+00, 1.973e+03],\n",
       "       ...,\n",
       "       [5.000e+00, 2.016e+03],\n",
       "       [6.000e+00, 2.016e+03],\n",
       "       [7.000e+00, 2.016e+03]])"
      ]
     },
     "execution_count": 19,
     "metadata": {},
     "output_type": "execute_result"
    }
   ],
   "source": [
    "X"
   ]
  },
  {
   "cell_type": "code",
   "execution_count": 20,
   "id": "b36cb7a4",
   "metadata": {
    "scrolled": true
   },
   "outputs": [
    {
     "data": {
      "text/plain": [
       "array([ 72.076,  64.442,  64.084,  60.842,  61.798,  66.538,  72.626,\n",
       "        75.181,  68.397,  67.668,  67.021,  71.118,  70.55 ,  62.929,\n",
       "        64.519,  60.544,  64.687,  64.736,  73.698,  72.559,  63.221,\n",
       "        65.418,  65.593,  71.677,  72.708,  65.117,  66.532,  61.975,\n",
       "        62.031,  67.875,  74.184,  77.029,  66.156,  66.651,  67.625,\n",
       "        75.857,  81.264,  71.058,  73.361,  68.703,  68.985,  73.936,\n",
       "        80.968,  81.962,  72.95 ,  74.746,  78.924,  84.49 ,  87.215,\n",
       "        75.943,  75.092,  68.641,  74.916,  80.942,  90.667,  89.046,\n",
       "        80.975,  77.369,  78.058,  83.279,  85.191,  71.476,  67.829,\n",
       "        69.051,  74.201,  81.372,  88.003,  91.836,  85.066,  79.494,\n",
       "        79.291,  87.107,  93.946,  83.91 ,  83.689,  78.077,  83.19 ,\n",
       "        88.15 ,  96.579,  97.246,  84.463,  86.071,  86.09 ,  94.293,\n",
       "       100.568,  94.862,  93.21 ,  81.245,  82.785,  91.484, 107.126,\n",
       "       106.245,  95.662,  90.03 ,  91.239, 102.138, 108.164,  94.766,\n",
       "        95.724,  86.386,  89.002,  99.05 , 111.044, 107.758,  95.891,\n",
       "        94.541,  92.986, 105.056, 113.136,  97.313,  95.335,  86.587,\n",
       "        90.83 ,  94.419, 109.995, 109.179,  96.39 ,  92.24 ,  95.165,\n",
       "       101.367, 105.965,  90.912,  93.568,  86.575,  90.75 ,  99.98 ,\n",
       "       119.945, 126.652, 107.675, 100.677, 101.663, 117.417, 119.436,\n",
       "       103.635, 108.149,  94.329,  98.181, 112.983, 119.701, 125.724,\n",
       "       107.179, 108.583, 107.546, 112.167, 125.429, 109.359, 107.966,\n",
       "       100.317, 107.595, 113.584, 126.626, 124.309, 111.9  , 108.331,\n",
       "       107.034, 124.95 , 126.887, 109.086, 106.803,  95.341, 101.892,\n",
       "       116.698, 134.789, 122.28 , 112.03 , 107.235, 107.317, 117.127,\n",
       "       124.043, 106.754, 108.607, 102.222, 112.257, 126.2  , 140.582,\n",
       "       139.268, 117.773, 113.515, 111.217, 124.314, 133.468, 120.783,\n",
       "       115.584, 106.49 , 111.2  , 128.537, 141.139, 148.031, 121.057,\n",
       "       117.165, 116.659, 131.695, 132.233, 124.345, 122.803, 111.194,\n",
       "       115.915, 126.031, 138.083, 139.614, 124.594, 119.943, 120.824,\n",
       "       143.264, 132.923, 116.26 , 121.806, 115.909, 118.556, 130.719,\n",
       "       143.146, 146.257, 134.042, 128.8  , 122.119, 137.027, 143.148,\n",
       "       117.505, 118.823, 111.147, 122.745, 131.945, 144.042, 144.107,\n",
       "       129.099, 124.058, 127.928, 133.633, 137.39 , 121.125, 126.201,\n",
       "       118.33 , 121.946, 129.054, 148.563, 142.166, 132.766, 126.405,\n",
       "       126.014, 139.605, 139.269, 128.056, 134.599, 119.596, 120.469,\n",
       "       136.697, 157.967, 156.392, 133.435, 130.321, 131.799, 143.919,\n",
       "       153.119, 131.25 , 132.54 , 120.392, 126.496, 146.639, 153.375,\n",
       "       151.757, 133.235, 129.229, 124.074, 136.675, 143.097, 127.774,\n",
       "       127.348, 118.414, 125.516, 138.913, 159.638, 167.717, 137.474,\n",
       "       132.871, 134.591, 147.39 , 153.915, 138.446, 138.362, 124.885,\n",
       "       135.014, 147.23 , 160.939, 162.998, 144.095, 143.399, 147.318,\n",
       "       155.809, 162.245, 135.873, 138.495, 130.325, 136.525, 147.624,\n",
       "       169.108, 164.925, 152.353, 152.153, 146.425, 160.993, 159.602,\n",
       "       138.682, 144.143, 133.418, 146.249, 158.591, 174.995, 174.745,\n",
       "       156.709, 147.334, 139.397, 154.318, 161.387, 138.081, 145.169,\n",
       "       137.504, 144.891, 157.377, 179.42 , 173.707, 154.874, 147.523,\n",
       "       142.095, 154.387, 172.903, 155.75 , 152.347, 137.295, 151.232,\n",
       "       165.771, 172.816, 179.476, 158.627, 156.631, 155.015, 169.514,\n",
       "       171.379, 146.187, 151.068, 136.46 , 148.784, 159.457, 176.898,\n",
       "       180.673, 153.202, 146.64 , 142.367, 156.713, 159.356, 139.482,\n",
       "       146.594, 138.353, 147.956, 161.561, 179.351, 177.391, 162.681,\n",
       "       156.051, 153.318, 167.785, 175.518, 152.63 , 150.919, 138.322,\n",
       "       147.491, 160.056, 178.656, 181.673, 161.942, 155.337, 156.001,\n",
       "       172.427, 175.35 , 157.548, 149.42 , 138.155, 153.824, 164.022,\n",
       "       178.541, 175.913, 163.182, 155.596, 156.598, 174.92 , 175.514,\n",
       "       153.555, 159.857, 140.548, 151.645, 171.133, 184.087, 186.022,\n",
       "       169.222, 160.682, 155.899, 175.664, 166.165, 154.226, 156.997,\n",
       "       138.082, 153.221, 166.169, 184.807, 186.844, 160.475, 159.328,\n",
       "       156.604, 170.779, 174.337, 159.772, 155.545, 144.038, 154.284,\n",
       "       170.559, 183.582, 188.407, 167.18 , 159.36 , 156.666, 173.557,\n",
       "       177.865, 163.114, 156.693, 144.524, 152.626, 168.239, 184.592,\n",
       "       179.993, 160.76 , 150.605, 152.302, 168.073, 169.01 , 138.457,\n",
       "       134.157, 125.161, 131.317, 147.22 , 157.083, 161.543, 137.175,\n",
       "       138.952, 136.236, 164.564, 169.541, 149.732, 142.659, 125.288,\n",
       "       141.697, 163.128, 177.165, 176.655, 148.406, 132.129, 135.919,\n",
       "       165.3  , 166.309, 135.738, 133.862, 123.65 , 135.488, 155.016,\n",
       "       173.728, 169.987, 141.456, 128.32 , 123.628, 135.527, 129.542,\n",
       "       115.247, 105.084,  94.674, 114.96 , 131.167, 158.331, 151.36 ,\n",
       "       127.184, 121.741, 127.974, 133.974, 137.055, 122.562, 128.606,\n",
       "       110.959, 118.029, 137.026, 151.952, 149.701, 132.785, 121.075,\n",
       "       120.445, 141.155, 153.85 , 140.102, 132.664, 106.751, 117.672,\n",
       "       136.577, 149.776, 148.995, 126.983, 112.3  , 118.837, 124.629,\n",
       "       130.232, 122.417, 106.412,  88.646, 104.498, 126.28 , 140.283,\n",
       "       135.156, 118.653,  98.469,  90.263,  91.658, 113.495,  92.416,\n",
       "        72.84 ,  71.41 ,  82.51 , 115.772, 135.958])"
      ]
     },
     "execution_count": 20,
     "metadata": {},
     "output_type": "execute_result"
    }
   ],
   "source": [
    "y"
   ]
  },
  {
   "cell_type": "code",
   "execution_count": 21,
   "id": "6cdcfaa7",
   "metadata": {},
   "outputs": [
    {
     "data": {
      "text/plain": [
       "<xgboost.core.DMatrix at 0x1ca91baf3d0>"
      ]
     },
     "execution_count": 21,
     "metadata": {},
     "output_type": "execute_result"
    }
   ],
   "source": [
    "data_dmatrix = xgb.DMatrix(X,label=y)\n",
    "data_dmatrix"
   ]
  },
  {
   "cell_type": "markdown",
   "id": "c677bc62",
   "metadata": {},
   "source": [
    "<a id=\"5\"></a>\n",
    "# <p style=\"padding:10px;background-color:#FDD667;margin:0;color:#1c1c1c;font-family:newtimeroman;font-size:100%;text-align:center;border-radius: 15px 50px;overflow:hidden;font-weight:500\">Splitting the Dataset into the Training Set and Test Set\n",
    "</p>"
   ]
  },
  {
   "cell_type": "code",
   "execution_count": 22,
   "id": "80a74f62",
   "metadata": {},
   "outputs": [],
   "source": [
    "X_train, X_test, y_train, y_test = train_test_split(X, y, test_size=0.2, random_state=5)"
   ]
  },
  {
   "cell_type": "code",
   "execution_count": 23,
   "id": "76c8304c",
   "metadata": {},
   "outputs": [
    {
     "name": "stdout",
     "output_type": "stream",
     "text": [
      "(418, 2)\n",
      "(418,)\n",
      "(105, 2)\n",
      "(105,)\n"
     ]
    }
   ],
   "source": [
    "print(X_train.shape)\n",
    "print(y_train.shape)\n",
    "print(X_test.shape)\n",
    "print(y_test.shape)"
   ]
  },
  {
   "cell_type": "markdown",
   "id": "3108c8d7",
   "metadata": {},
   "source": [
    "<div class=\"list-group\" id=\"list-tab\" role=\"tablist\">\n",
    "<p style=\"padding:10px;background-color:#FDD667;margin:0;color:#1c1c1c;font-family:newtimeroman;font-size:130%;text-align:center;border-radius: 15px 50px;overflow:hidden;font-weight:500\"> Feature Scaling</p>"
   ]
  },
  {
   "cell_type": "code",
   "execution_count": 24,
   "id": "c9fbc836",
   "metadata": {},
   "outputs": [],
   "source": [
    "sc = StandardScaler()\n",
    "X_train = sc.fit_transform(X_train)\n",
    "X_test = sc.transform(X_test)"
   ]
  },
  {
   "cell_type": "markdown",
   "id": "20705cc7",
   "metadata": {},
   "source": [
    "<a id=\"6\"></a>\n",
    "# <p style=\"padding:10px;background-color:#FDD667;margin:0;color:#1c1c1c;font-family:newtimeroman;font-size:100%;text-align:center;border-radius: 15px 50px;overflow:hidden;font-weight:500\"> XGBoost Model</p>"
   ]
  },
  {
   "cell_type": "code",
   "execution_count": 25,
   "id": "32002c75",
   "metadata": {},
   "outputs": [
    {
     "data": {
      "text/plain": [
       "XGBRegressor(base_score=0.5, booster='gbtree', callbacks=None,\n",
       "             colsample_bylevel=1, colsample_bynode=1, colsample_bytree=1,\n",
       "             early_stopping_rounds=None, enable_categorical=False,\n",
       "             eval_metric=None, feature_types=None, gamma=0, gpu_id=-1,\n",
       "             grow_policy='depthwise', importance_type=None,\n",
       "             interaction_constraints='', learning_rate=0.08, max_bin=256,\n",
       "             max_cat_threshold=64, max_cat_to_onehot=4, max_delta_step=0,\n",
       "             max_depth=7, max_leaves=0, min_child_weight=1, missing=nan,\n",
       "             monotone_constraints='()', n_estimators=1000, n_jobs=0,\n",
       "             num_parallel_tree=1, predictor='auto', random_state=0, ...)"
      ]
     },
     "execution_count": 25,
     "metadata": {},
     "output_type": "execute_result"
    }
   ],
   "source": [
    "reg_mod = xgb.XGBRegressor(\n",
    "    n_estimators=1000,\n",
    "    learning_rate=0.08,\n",
    "    subsample=0.75,\n",
    "    colsample_bytree=1, \n",
    "    max_depth=7,\n",
    "    gamma=0,\n",
    ")\n",
    "reg_mod.fit(X_train, y_train)"
   ]
  },
  {
   "cell_type": "markdown",
   "id": "0e1e1978",
   "metadata": {},
   "source": [
    "<div class=\"list-group\" id=\"list-tab\" role=\"tablist\">\n",
    "<p style=\"padding:10px;background-color:#FDD667;margin:0;color:#1c1c1c;font-family:newtimeroman;font-size:130%;text-align:center;border-radius: 15px 50px;overflow:hidden;font-weight:500\"> Class Validation</p>"
   ]
  },
  {
   "cell_type": "code",
   "execution_count": 26,
   "id": "e8989db9",
   "metadata": {},
   "outputs": [
    {
     "name": "stdout",
     "output_type": "stream",
     "text": [
      "Mean cross-validation score: 0.98\n"
     ]
    }
   ],
   "source": [
    "scores = cross_val_score(reg_mod, X_train, y_train,cv=10)\n",
    "print(\"Mean cross-validation score: %.2f\" % scores.mean())"
   ]
  },
  {
   "cell_type": "code",
   "execution_count": 27,
   "id": "7d5347dd",
   "metadata": {},
   "outputs": [
    {
     "data": {
      "text/plain": [
       "XGBRegressor(base_score=0.5, booster='gbtree', callbacks=None,\n",
       "             colsample_bylevel=1, colsample_bynode=1, colsample_bytree=1,\n",
       "             early_stopping_rounds=None, enable_categorical=False,\n",
       "             eval_metric=None, feature_types=None, gamma=0, gpu_id=-1,\n",
       "             grow_policy='depthwise', importance_type=None,\n",
       "             interaction_constraints='', learning_rate=0.08, max_bin=256,\n",
       "             max_cat_threshold=64, max_cat_to_onehot=4, max_delta_step=0,\n",
       "             max_depth=7, max_leaves=0, min_child_weight=1, missing=nan,\n",
       "             monotone_constraints='()', n_estimators=1000, n_jobs=0,\n",
       "             num_parallel_tree=1, predictor='auto', random_state=0, ...)"
      ]
     },
     "execution_count": 27,
     "metadata": {},
     "output_type": "execute_result"
    }
   ],
   "source": [
    "reg_mod.fit(X_train,y_train)"
   ]
  },
  {
   "cell_type": "markdown",
   "id": "61af33b9",
   "metadata": {},
   "source": [
    "<a id=\"7\"></a>\n",
    "# <p style=\"padding:10px;background-color:#FDD667;margin:0;color:#1c1c1c;font-family:newtimeroman;font-size:100%;text-align:center;border-radius: 15px 50px;overflow:hidden;font-weight:500\"> Evaluation</p>"
   ]
  },
  {
   "cell_type": "code",
   "execution_count": 28,
   "id": "4f82fe4f",
   "metadata": {},
   "outputs": [],
   "source": [
    "y_pred_test = reg_mod.predict(X_test)\n",
    "y_pred_train = reg_mod.predict(X_train)"
   ]
  },
  {
   "cell_type": "markdown",
   "id": "13fe7e82",
   "metadata": {},
   "source": [
    "<div class=\"list-group\" id=\"list-tab\" role=\"tablist\">\n",
    "<p style=\"padding:10px;background-color:#FDD667;margin:0;color:#1c1c1c;font-family:newtimeroman;font-size:130%;text-align:center;border-radius: 15px 50px;overflow:hidden;font-weight:500\"> R_Squared Score</p>"
   ]
  },
  {
   "cell_type": "code",
   "execution_count": 29,
   "id": "53e7832c",
   "metadata": {
    "scrolled": true
   },
   "outputs": [
    {
     "name": "stdout",
     "output_type": "stream",
     "text": [
      "R^2: 0.9999998238842513\n",
      "R^2: 0.9803218078492915\n"
     ]
    }
   ],
   "source": [
    "print('R^2:', metrics.r2_score(y_train, y_pred_train))\n",
    "print('R^2:', metrics.r2_score(y_test, y_pred_test))"
   ]
  },
  {
   "cell_type": "markdown",
   "id": "11c4976a",
   "metadata": {},
   "source": [
    "<div class=\"list-group\" id=\"list-tab\" role=\"tablist\">\n",
    "<p style=\"padding:10px;background-color:#FDD667;margin:0;color:#1c1c1c;font-family:newtimeroman;font-size:130%;text-align:center;border-radius: 15px 50px;overflow:hidden;font-weight:500\"> MAE</p>"
   ]
  },
  {
   "cell_type": "code",
   "execution_count": 30,
   "id": "2581f6d8",
   "metadata": {},
   "outputs": [
    {
     "name": "stdout",
     "output_type": "stream",
     "text": [
      "MAE: 0.010900782973001429\n",
      "MAE: 3.5144520536876858\n"
     ]
    }
   ],
   "source": [
    "print('MAE:', metrics.mean_absolute_error(y_train, y_pred_train))\n",
    "print('MAE:', metrics.mean_absolute_error(y_test, y_pred_test))"
   ]
  },
  {
   "cell_type": "markdown",
   "id": "260a463f",
   "metadata": {},
   "source": [
    "<div class=\"list-group\" id=\"list-tab\" role=\"tablist\">\n",
    "<p style=\"padding:10px;background-color:#FDD667;margin:0;color:#1c1c1c;font-family:newtimeroman;font-size:130%;text-align:center;border-radius: 15px 50px;overflow:hidden;font-weight:500\"> MSE</p>"
   ]
  },
  {
   "cell_type": "code",
   "execution_count": 31,
   "id": "e452b7f5",
   "metadata": {},
   "outputs": [
    {
     "name": "stdout",
     "output_type": "stream",
     "text": [
      "MSE: 0.0001824243699986724\n",
      "MSE: 18.18589199011507\n"
     ]
    }
   ],
   "source": [
    "print('MSE:', metrics.mean_squared_error(y_train, y_pred_train))\n",
    "print('MSE:', metrics.mean_squared_error(y_test, y_pred_test))"
   ]
  },
  {
   "cell_type": "markdown",
   "id": "2c863130",
   "metadata": {},
   "source": [
    "<div class=\"list-group\" id=\"list-tab\" role=\"tablist\">\n",
    "<p style=\"padding:10px;background-color:#FDD667;margin:0;color:#1c1c1c;font-family:newtimeroman;font-size:130%;text-align:center;border-radius: 15px 50px;overflow:hidden;font-weight:500\"> RMSE</p>"
   ]
  },
  {
   "cell_type": "code",
   "execution_count": 32,
   "id": "fbe266fc",
   "metadata": {},
   "outputs": [
    {
     "name": "stdout",
     "output_type": "stream",
     "text": [
      "RMSE: 0.013506456604108732\n",
      "RMSE: 4.264491996723065\n"
     ]
    }
   ],
   "source": [
    "print('RMSE:', np.sqrt(metrics.mean_squared_error(y_train, y_pred_train)))\n",
    "print('RMSE:', np.sqrt(metrics.mean_squared_error(y_test, y_pred_test)))"
   ]
  },
  {
   "cell_type": "markdown",
   "id": "1493addc",
   "metadata": {},
   "source": [
    "* As you can see, the these statistical metrics have reinstated our confidence about this model. RMSE ~ 4.26 R-Squared Score ~ 98% Now, let's visualize the original data set using the seaborn library."
   ]
  },
  {
   "cell_type": "markdown",
   "id": "f4f453d3",
   "metadata": {},
   "source": [
    "<a id=\"8\"></a>\n",
    "# <p style=\"padding:10px;background-color:#FDD667;margin:0;color:#1c1c1c;font-family:newtimeroman;font-size:100%;text-align:center;border-radius: 15px 50px;overflow:hidden;font-weight:500\"> Visualization</p>"
   ]
  },
  {
   "cell_type": "code",
   "execution_count": 33,
   "id": "6f263900",
   "metadata": {},
   "outputs": [
    {
     "data": {
      "text/plain": [
       "<AxesSubplot:xlabel='Year', ylabel='Value'>"
      ]
     },
     "execution_count": 33,
     "metadata": {},
     "output_type": "execute_result"
    },
    {
     "data": {
      "image/png": "[encoded data removed]",
      "text/plain": [
       "<Figure size 800x400 with 1 Axes>"
      ]
     },
     "metadata": {
      "needs_background": "light"
     },
     "output_type": "display_data"
    }
   ],
   "source": [
    "plt.figure(figsize=(10, 5), dpi=80)\n",
    "sns.lineplot(x='Year', y='Value', data=df)"
   ]
  },
  {
   "cell_type": "code",
   "execution_count": 35,
   "id": "654237af",
   "metadata": {},
   "outputs": [
    {
     "data": {
      "image/png": "[encoded data removed]",
      "text/plain": [
       "<Figure size 800x400 with 1 Axes>"
      ]
     },
     "metadata": {
      "needs_background": "light"
     },
     "output_type": "display_data"
    }
   ],
   "source": [
    "plt.figure(figsize=(10, 5), dpi=80)\n",
    "x_ax = range(len(y_test))\n",
    "plt.plot(x_ax, y_test, label=\"test\")\n",
    "plt.plot(x_ax, y_pred_test, label=\"predicted\")\n",
    "plt.title(\"Carbon Dioxide Emissions - Test and Predicted data\")\n",
    "plt.legend()\n",
    "plt.show()"
   ]
  },
  {
   "cell_type": "code",
   "execution_count": 36,
   "id": "e7b9173f",
   "metadata": {},
   "outputs": [
    {
     "data": {
      "image/png": "[encoded data removed]",
      "text/plain": [
       "<Figure size 800x400 with 1 Axes>"
      ]
     },
     "metadata": {
      "needs_background": "light"
     },
     "output_type": "display_data"
    }
   ],
   "source": [
    "plt.figure(figsize=(10, 5), dpi=80)\n",
    "df=pd.DataFrame(y_pred_test, columns=['pred']) \n",
    "df['date'] = pd.date_range(start='8/1/2016', periods=len(df), freq='M')\n",
    "sns.lineplot(x='date', y='pred', data=df)\n",
    "plt.title(\"Carbon Dioxide Emissions - Forecast\")\n",
    "plt.show()"
   ]
  },
  {
   "cell_type": "code",
   "execution_count": null,
   "id": "0422bfb7",
   "metadata": {},
   "outputs": [],
   "source": []
  }
 ],
 "metadata": {
  "kernelspec": {
   "display_name": "Python 3 (ipykernel)",
   "language": "python",
   "name": "python3"
  },
  "language_info": {
   "codemirror_mode": {
    "name": "ipython",
    "version": 3
   },
   "file_extension": ".py",
   "mimetype": "text/x-python",
   "name": "python",
   "nbconvert_exporter": "python",
   "pygments_lexer": "ipython3",
   "version": "3.9.12"
  }
 },
 "nbformat": 4,
 "nbformat_minor": 5
}
